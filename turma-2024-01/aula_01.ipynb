{
 "cells": [
  {
   "cell_type": "markdown",
   "metadata": {},
   "source": [
    "# Curso muito Muito rápido sobre Python.\n",
    "Variáveis, no contexto python, é um lugar na memória do computador. É composto por um par de nome da variável e o seu valor"
   ]
  },
  {
   "cell_type": "code",
   "execution_count": 9,
   "metadata": {},
   "outputs": [
    {
     "name": "stdout",
     "output_type": "stream",
     "text": [
      "30\n"
     ]
    }
   ],
   "source": [
    "idade = 30 # atribuindo o valor 30 a variavel idade\n",
    "print(idade)"
   ]
  },
  {
   "cell_type": "markdown",
   "metadata": {},
   "source": [
    "Tipos de variáveis em Python:\n",
    "\n",
    "string - texto - entre aspas\n",
    "inteiro - número inteiro\n",
    "float - número real, com casas decimais\n",
    "listas - série de outros valores"
   ]
  },
  {
   "cell_type": "code",
   "execution_count": 10,
   "metadata": {},
   "outputs": [],
   "source": [
    "nome_da_variavel = \"qualquer texto que eu quiser\"\n",
    "variavel_inteira = 2\n",
    "variavel_decimal = 3.14\n",
    "lista_1 = [1, 4, 6, 9]\n",
    "nomes = [\"João\", \"José\", \"Maria\"]"
   ]
  },
  {
   "cell_type": "markdown",
   "metadata": {},
   "source": [
    "# Exemplo de aula\n",
    "Sabendo que a massa de 1 grão de soja é igual a 0,1188g. Determine quantos grãos existem em uma saca de 60kg.\n",
    "\n",
    "1kg tem 1000 gramas"
   ]
  },
  {
   "cell_type": "code",
   "execution_count": 11,
   "metadata": {},
   "outputs": [
    {
     "name": "stdout",
     "output_type": "stream",
     "text": [
      "Quantidade de grãos: 505050.50505050505\n"
     ]
    }
   ],
   "source": [
    "massa_grao = 0.1188 # gramas\n",
    "massa_saca = 60 * 1000 \n",
    "quantidade_graos = massa_saca / massa_grao\n",
    "\n",
    "print(f\"Quantidade de grãos: {quantidade_graos}\")"
   ]
  },
  {
   "cell_type": "code",
   "execution_count": 12,
   "metadata": {},
   "outputs": [
    {
     "name": "stdout",
     "output_type": "stream",
     "text": [
      "Outra quantidade de grãos: 224466.8911335578\n"
     ]
    }
   ],
   "source": [
    "massa_outro_grao = 0.2673\n",
    "outra_quantidade_graos = massa_saca / massa_outro_grao\n",
    "\n",
    "print(f\"Outra quantidade de grãos: {outra_quantidade_graos}\")"
   ]
  },
  {
   "cell_type": "markdown",
   "metadata": {},
   "source": [
    "Guardar uma lista com a massa em gramas de 140 amostras de grãos de soja.\n",
    "\n",
    "OBS: O separador decimal é o ponto (.) e a vírgula (,) é usada para separar diferentes elementos dentro da lista."
   ]
  },
  {
   "cell_type": "code",
   "execution_count": 13,
   "metadata": {},
   "outputs": [],
   "source": [
    "massa_dos_graos = [\n",
    "    0.1188,\t0.2673,\t0.1795,\t0.2369,\t0.1826,\t0.1860,\t0.2045, 0.1795,\t0.1910,\t0.1409,\n",
    "    0.1733,\t0.2146,\t0.1965,\t0.2326, 0.2382,\t0.2091,\t0.2660,\t0.2126,\t0.2048,\t0.2058,\n",
    "    0.1666, 0.2505,\t0.1823,\t0.1590,\t0.1722,\t0.1462,\t0.1985,\t0.1769, 0.1810,\t0.2126,\n",
    "    0.1596,\t0.2504,\t0.2285,\t0.3043,\t0.1683, 0.2833,\t0.2380,\t0.1930,\t0.1980,\t0.1402,\n",
    "    0.2060,\t0.2097, 0.2309,\t0.2458,\t0.1496,\t0.1865,\t0.2087,\t0.2335,\t0.2173, 0.1746,\n",
    "    0.1677,\t0.2456,\t0.1828,\t0.1663,\t0.1971,\t0.2341, 0.2327,\t0.2137,\t0.1793,\t0.2423,\n",
    "    0.2012,\t0.1968,\t0.2433, 0.2311,\t0.1902,\t0.1970,\t0.1644,\t0.1935,\t0.1421,\t0.1202,\n",
    "    0.2459,\t0.2098,\t0.1817,\t0.1736,\t0.2296,\t0.2200,\t0.2025, 0.1996,\t0.1995,\t0.1732,\n",
    "    0.1987,\t0.2482,\t0.1708,\t0.2465, 0.2096,\t0.2054,\t0.1561,\t0.1766,\t0.2620,\t0.1642,\n",
    "    0.2507, 0.1814,\t0.1340,\t0.2051,\t0.2455,\t0.2008,\t0.1740,\t0.2089, 0.2595,\t0.1470,\n",
    "    0.2674,\t0.1701,\t0.2055,\t0.2215,\t0.2080, 0.1848,\t0.2184,\t0.2254,\t0.1573,\t0.1696,\n",
    "    0.2262,\t0.1950, 0.1965,\t0.1773,\t0.1340,\t0.2237,\t0.1996,\t0.1463,\t0.1917, 0.2593,\n",
    "    0.1799,\t0.2585,\t0.2153,\t0.2365,\t0.1629,\t0.1875, 0.2657,\t0.2666,\t0.2535,\t0.1874,\n",
    "    0.1869,\t0.2266,\t0.2143, 0.1399,\t0.2790,\t0.1988,\t0.1904,\t0.1911,\t0.2186,\t0.1606, \n",
    "]"
   ]
  },
  {
   "cell_type": "markdown",
   "metadata": {},
   "source": [
    "Dicionários: (dict) - É semelhante a uma lista, mas é composta por uma estrutura que contém chave e valor"
   ]
  },
  {
   "cell_type": "code",
   "execution_count": 14,
   "metadata": {},
   "outputs": [],
   "source": [
    "dados = { \"Massa\": massa_dos_graos }"
   ]
  },
  {
   "cell_type": "markdown",
   "metadata": {},
   "source": [
    "Pandas - biblioteca de funções em Python para análise de dados"
   ]
  },
  {
   "cell_type": "code",
   "execution_count": 15,
   "metadata": {},
   "outputs": [
    {
     "data": {
      "text/html": [
       "<div>\n",
       "<style scoped>\n",
       "    .dataframe tbody tr th:only-of-type {\n",
       "        vertical-align: middle;\n",
       "    }\n",
       "\n",
       "    .dataframe tbody tr th {\n",
       "        vertical-align: top;\n",
       "    }\n",
       "\n",
       "    .dataframe thead th {\n",
       "        text-align: right;\n",
       "    }\n",
       "</style>\n",
       "<table border=\"1\" class=\"dataframe\">\n",
       "  <thead>\n",
       "    <tr style=\"text-align: right;\">\n",
       "      <th></th>\n",
       "      <th>Massa</th>\n",
       "    </tr>\n",
       "  </thead>\n",
       "  <tbody>\n",
       "    <tr>\n",
       "      <th>0</th>\n",
       "      <td>0.1188</td>\n",
       "    </tr>\n",
       "    <tr>\n",
       "      <th>1</th>\n",
       "      <td>0.2673</td>\n",
       "    </tr>\n",
       "    <tr>\n",
       "      <th>2</th>\n",
       "      <td>0.1795</td>\n",
       "    </tr>\n",
       "    <tr>\n",
       "      <th>3</th>\n",
       "      <td>0.2369</td>\n",
       "    </tr>\n",
       "    <tr>\n",
       "      <th>4</th>\n",
       "      <td>0.1826</td>\n",
       "    </tr>\n",
       "  </tbody>\n",
       "</table>\n",
       "</div>"
      ],
      "text/plain": [
       "    Massa\n",
       "0  0.1188\n",
       "1  0.2673\n",
       "2  0.1795\n",
       "3  0.2369\n",
       "4  0.1826"
      ]
     },
     "execution_count": 15,
     "metadata": {},
     "output_type": "execute_result"
    }
   ],
   "source": [
    "import pandas as pd\n",
    "# criar dataframe - organização dos dados em forma de tabela\n",
    "dados_df = pd.DataFrame(dados)\n",
    "dados_df.head()"
   ]
  },
  {
   "cell_type": "markdown",
   "metadata": {},
   "source": [
    "maior e menor valores e contar quantos dados existem."
   ]
  },
  {
   "cell_type": "code",
   "execution_count": 16,
   "metadata": {},
   "outputs": [
    {
     "name": "stdout",
     "output_type": "stream",
     "text": [
      "Maior valor de massa: 0.3043 g\n",
      "Menor valor de massa: 0.1188 g\n",
      "Quantidade de grãos: 140\n"
     ]
    }
   ],
   "source": [
    "maior_valor = dados_df[\"Massa\"].max()\n",
    "menor_valor = dados_df[\"Massa\"].min()\n",
    "quantidade_valores = dados_df[\"Massa\"].count() #retorna a quantidade de valores na coluna\n",
    "print(f\"Maior valor de massa: {maior_valor} g\")\n",
    "print(f\"Menor valor de massa: {menor_valor} g\")\n",
    "print(f\"Quantidade de grãos: {quantidade_valores}\")"
   ]
  }
 ],
 "metadata": {
  "kernelspec": {
   "display_name": "venv",
   "language": "python",
   "name": "python3"
  },
  "language_info": {
   "codemirror_mode": {
    "name": "ipython",
    "version": 3
   },
   "file_extension": ".py",
   "mimetype": "text/x-python",
   "name": "python",
   "nbconvert_exporter": "python",
   "pygments_lexer": "ipython3",
   "version": "3.11.8"
  }
 },
 "nbformat": 4,
 "nbformat_minor": 2
}
